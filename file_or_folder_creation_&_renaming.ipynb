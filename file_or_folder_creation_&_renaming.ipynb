{
 "cells": [
  {
   "cell_type": "code",
   "execution_count": 1,
   "id": "d3fadea3",
   "metadata": {},
   "outputs": [],
   "source": [
    "#import os for the manipulation of files and folders\n",
    "import os"
   ]
  },
  {
   "cell_type": "code",
   "execution_count": 2,
   "id": "ba380dec",
   "metadata": {},
   "outputs": [
    {
     "name": "stdout",
     "output_type": "stream",
     "text": [
      "D:\\python\\python material\\python projects\\Project 8-- folders_or_files_creator_and_renaming\\New folder\\new_folder_1_changed\n"
     ]
    }
   ],
   "source": [
    "#define the path where the files and folders will be created\n",
    "%cd new_folder_1_changed/"
   ]
  },
  {
   "cell_type": "markdown",
   "id": "b2089ed8",
   "metadata": {},
   "source": [
    "# NAME FILES AND FOLDERS BASED ON THEIR NUMBER(ODD/EVEN)"
   ]
  },
  {
   "cell_type": "code",
   "execution_count": 3,
   "id": "ff291f2c",
   "metadata": {},
   "outputs": [],
   "source": [
    "def make_files_or_directories():\n",
    "    dir_num=int(input('Please enter how many directories you want to create:'))\n",
    "    file_num=int(input('Please enter how many text files you want to create:'))\n",
    "\n",
    "    if dir_num>2:\n",
    "        for i in range(1,dir_num+1):\n",
    "            if i%2==0:\n",
    "                if os.path.exists('Even-{}'.format(i)):\n",
    "                    pass\n",
    "                else:\n",
    "                    os.mkdir('Even-{}'.format(i))\n",
    "            elif i%2!=0:\n",
    "                if os.path.exists('Odd-{}'.format(i)):\n",
    "                    pass\n",
    "                else:\n",
    "                    os.mkdir('Odd-{}'.format(i))\n",
    "    elif dir_num==1:\n",
    "        if os.path.exists('Odd-1'):\n",
    "            pass\n",
    "        else:\n",
    "            os.mkdir('Odd-1')\n",
    "        \n",
    "    elif dir_num==0:\n",
    "        print('No Directories were created')\n",
    "    \n",
    "    \n",
    "    if file_num>2:\n",
    "        for i in range(1,file_num+1):\n",
    "            if i%2==0:\n",
    "                f=open('Even_text_file_{}.txt'.format(i),'w')\n",
    "                f.write('This is an Even numbered file and an automation task')\n",
    "                f.close()\n",
    "            elif i%2!=0:\n",
    "                f=open('Odd_text_file_{}.txt'.format(i),'w')\n",
    "                f.write('This is an Odd numbered file and an automation task')\n",
    "                f.close()\n",
    "    elif file_num==1:\n",
    "        f=open('Odd_text_file_1.txt','w')\n",
    "        f.write('This is an Odd numbered file and an automation task')\n",
    "        f.close()\n",
    "    elif file_num==0:\n",
    "        print('No files were created!!')\n",
    "    \n",
    "    \n",
    "    \n",
    "    print('Executed Successfully!')"
   ]
  },
  {
   "cell_type": "markdown",
   "id": "19d9fc85",
   "metadata": {},
   "source": [
    "# CUSTOM NAMING OF TEXT FILES AND FOLDERS"
   ]
  },
  {
   "cell_type": "code",
   "execution_count": 4,
   "id": "c3eabde2",
   "metadata": {},
   "outputs": [],
   "source": [
    "def make_files_or_directories_with_custom_name():\n",
    "    dir_num=int(input('Please enter how many directories you want to create:'))\n",
    "    file_num=int(input('Please enter how many text files you want to create:'))\n",
    "    dir_name=input('Enter directory name:')\n",
    "    file_name=input('Enter file name:')\n",
    "    if dir_num>2:\n",
    "        for i in range(1,dir_num+1):\n",
    "            if os.path.exists('{}-{}'.format(dir_name,i)):\n",
    "                pass\n",
    "            else:\n",
    "                if i==1:\n",
    "                    os.mkdir('{}'.format(dir_name))\n",
    "                elif i>1:\n",
    "                    os.mkdir('{}-{}'.format(dir_name,i-1))\n",
    "\n",
    "    elif dir_num==1:\n",
    "        if os.path.exists('{}'.format(dir_name)):\n",
    "            pass\n",
    "        else:\n",
    "            os.mkdir('{}'.format(dir_name))\n",
    "        \n",
    "    elif dir_num==0:\n",
    "        print('No Directories were created')\n",
    "    \n",
    "    \n",
    "    if file_num>2:\n",
    "        for i in range(1,file_num+1):\n",
    "            if i==1:\n",
    "\n",
    "                f=open('{}_text_file.txt'.format(file_name),'w')\n",
    "                f.write('This is a text file and an automation task')\n",
    "                f.close()\n",
    "            elif i>1:\n",
    "                \n",
    "                f=open('{}_text_file_{}.txt'.format(file_name,i-1),'w')\n",
    "                f.write('This is a file and an automation task')\n",
    "                f.close()\n",
    "\n",
    "    elif file_num==1:\n",
    "        \n",
    "        f=open('{}_text_file.txt'.format(file_name),'w')\n",
    "        f.write('This is a file and an automation task')\n",
    "        f.close()\n",
    "    elif file_num==0:\n",
    "        print('No files were created!!')\n",
    "    \n",
    "    \n",
    "    \n",
    "    print('Executed Successfully!')"
   ]
  },
  {
   "cell_type": "code",
   "execution_count": 5,
   "id": "0344569c",
   "metadata": {},
   "outputs": [
    {
     "name": "stdout",
     "output_type": "stream",
     "text": [
      "Please enter how many directories you want to create:1\n",
      "Please enter how many text files you want to create:1\n",
      "Executed Successfully!\n"
     ]
    }
   ],
   "source": [
    "make_files_or_directories()"
   ]
  },
  {
   "cell_type": "code",
   "execution_count": 6,
   "id": "cbd4a5d3",
   "metadata": {},
   "outputs": [
    {
     "name": "stdout",
     "output_type": "stream",
     "text": [
      "Please enter how many directories you want to create:1\n",
      "Please enter how many text files you want to create:1\n",
      "Enter directory name:new_dir\n",
      "Enter file name:new_file\n",
      "Executed Successfully!\n"
     ]
    }
   ],
   "source": [
    "make_files_or_directories_with_custom_name()"
   ]
  },
  {
   "cell_type": "code",
   "execution_count": null,
   "id": "a8c4335a",
   "metadata": {},
   "outputs": [],
   "source": []
  }
 ],
 "metadata": {
  "kernelspec": {
   "display_name": "Python 3 (ipykernel)",
   "language": "python",
   "name": "python3"
  },
  "language_info": {
   "codemirror_mode": {
    "name": "ipython",
    "version": 3
   },
   "file_extension": ".py",
   "mimetype": "text/x-python",
   "name": "python",
   "nbconvert_exporter": "python",
   "pygments_lexer": "ipython3",
   "version": "3.10.3"
  }
 },
 "nbformat": 4,
 "nbformat_minor": 5
}
